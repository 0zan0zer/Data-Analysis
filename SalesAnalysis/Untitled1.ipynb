{
 "cells": [
  {
   "cell_type": "code",
   "execution_count": 1,
   "id": "upper-theater",
   "metadata": {},
   "outputs": [],
   "source": [
    "import pandas as pd\n",
    "import numpy as np"
   ]
  },
  {
   "cell_type": "code",
   "execution_count": 2,
   "id": "guilty-animal",
   "metadata": {},
   "outputs": [],
   "source": [
    "from sklearn import preprocessing, model_selection, neighbors, svm\n",
    "from sklearn.preprocessing import LabelEncoder\n",
    "from sklearn.model_selection import train_test_split\n",
    "from sklearn.neighbors import KNeighborsClassifier"
   ]
  },
  {
   "cell_type": "code",
   "execution_count": 3,
   "id": "suited-mobile",
   "metadata": {
    "scrolled": true
   },
   "outputs": [
    {
     "data": {
      "text/html": [
       "<div>\n",
       "<style scoped>\n",
       "    .dataframe tbody tr th:only-of-type {\n",
       "        vertical-align: middle;\n",
       "    }\n",
       "\n",
       "    .dataframe tbody tr th {\n",
       "        vertical-align: top;\n",
       "    }\n",
       "\n",
       "    .dataframe thead th {\n",
       "        text-align: right;\n",
       "    }\n",
       "</style>\n",
       "<table border=\"1\" class=\"dataframe\">\n",
       "  <thead>\n",
       "    <tr style=\"text-align: right;\">\n",
       "      <th></th>\n",
       "      <th>Product 1</th>\n",
       "      <th>Product 2</th>\n",
       "      <th>Product 3</th>\n",
       "    </tr>\n",
       "  </thead>\n",
       "  <tbody>\n",
       "    <tr>\n",
       "      <th>0</th>\n",
       "      <td>Google Phone</td>\n",
       "      <td>Wired Headphones</td>\n",
       "      <td>Empty</td>\n",
       "    </tr>\n",
       "    <tr>\n",
       "      <th>1</th>\n",
       "      <td>Google Phone</td>\n",
       "      <td>USB-C Charging Cable</td>\n",
       "      <td>Empty</td>\n",
       "    </tr>\n",
       "    <tr>\n",
       "      <th>2</th>\n",
       "      <td>Bose SoundSport Headphones</td>\n",
       "      <td>Bose SoundSport Headphones</td>\n",
       "      <td>Empty</td>\n",
       "    </tr>\n",
       "    <tr>\n",
       "      <th>3</th>\n",
       "      <td>AAA Batteries (4-pack)</td>\n",
       "      <td>Google Phone</td>\n",
       "      <td>Empty</td>\n",
       "    </tr>\n",
       "    <tr>\n",
       "      <th>4</th>\n",
       "      <td>Lightning Charging Cable</td>\n",
       "      <td>USB-C Charging Cable</td>\n",
       "      <td>Empty</td>\n",
       "    </tr>\n",
       "    <tr>\n",
       "      <th>...</th>\n",
       "      <td>...</td>\n",
       "      <td>...</td>\n",
       "      <td>...</td>\n",
       "    </tr>\n",
       "    <tr>\n",
       "      <th>7131</th>\n",
       "      <td>Apple Airpods Headphones</td>\n",
       "      <td>Apple Airpods Headphones</td>\n",
       "      <td>Empty</td>\n",
       "    </tr>\n",
       "    <tr>\n",
       "      <th>7132</th>\n",
       "      <td>iPhone</td>\n",
       "      <td>Lightning Charging Cable</td>\n",
       "      <td>Lightning Charging Cable</td>\n",
       "    </tr>\n",
       "    <tr>\n",
       "      <th>7133</th>\n",
       "      <td>34in Ultrawide Monitor</td>\n",
       "      <td>AA Batteries (4-pack)</td>\n",
       "      <td>Empty</td>\n",
       "    </tr>\n",
       "    <tr>\n",
       "      <th>7134</th>\n",
       "      <td>Wired Headphones</td>\n",
       "      <td>AAA Batteries (4-pack)</td>\n",
       "      <td>Empty</td>\n",
       "    </tr>\n",
       "    <tr>\n",
       "      <th>7135</th>\n",
       "      <td>Google Phone</td>\n",
       "      <td>USB-C Charging Cable</td>\n",
       "      <td>Empty</td>\n",
       "    </tr>\n",
       "  </tbody>\n",
       "</table>\n",
       "<p>7136 rows × 3 columns</p>\n",
       "</div>"
      ],
      "text/plain": [
       "                       Product 1                   Product 2  \\\n",
       "0                   Google Phone            Wired Headphones   \n",
       "1                   Google Phone        USB-C Charging Cable   \n",
       "2     Bose SoundSport Headphones  Bose SoundSport Headphones   \n",
       "3         AAA Batteries (4-pack)                Google Phone   \n",
       "4       Lightning Charging Cable        USB-C Charging Cable   \n",
       "...                          ...                         ...   \n",
       "7131    Apple Airpods Headphones    Apple Airpods Headphones   \n",
       "7132                      iPhone    Lightning Charging Cable   \n",
       "7133      34in Ultrawide Monitor       AA Batteries (4-pack)   \n",
       "7134            Wired Headphones      AAA Batteries (4-pack)   \n",
       "7135                Google Phone        USB-C Charging Cable   \n",
       "\n",
       "                     Product 3  \n",
       "0                        Empty  \n",
       "1                        Empty  \n",
       "2                        Empty  \n",
       "3                        Empty  \n",
       "4                        Empty  \n",
       "...                        ...  \n",
       "7131                     Empty  \n",
       "7132  Lightning Charging Cable  \n",
       "7133                     Empty  \n",
       "7134                     Empty  \n",
       "7135                     Empty  \n",
       "\n",
       "[7136 rows x 3 columns]"
      ]
     },
     "execution_count": 3,
     "metadata": {},
     "output_type": "execute_result"
    }
   ],
   "source": [
    "df = pd.read_csv(\"df_classification.csv\")\n",
    "df = df.drop([\"Order ID\"], axis = 1)\n",
    "df['Product 3'] = df['Product 3'].fillna(\"Empty\")\n",
    "df['Product 2'] = df['Product 2'].fillna(\"Empty\")\n",
    "df"
   ]
  },
  {
   "cell_type": "code",
   "execution_count": 4,
   "id": "given-trunk",
   "metadata": {},
   "outputs": [
    {
     "data": {
      "text/html": [
       "<div>\n",
       "<style scoped>\n",
       "    .dataframe tbody tr th:only-of-type {\n",
       "        vertical-align: middle;\n",
       "    }\n",
       "\n",
       "    .dataframe tbody tr th {\n",
       "        vertical-align: top;\n",
       "    }\n",
       "\n",
       "    .dataframe thead th {\n",
       "        text-align: right;\n",
       "    }\n",
       "</style>\n",
       "<table border=\"1\" class=\"dataframe\">\n",
       "  <thead>\n",
       "    <tr style=\"text-align: right;\">\n",
       "      <th></th>\n",
       "      <th>Product 1</th>\n",
       "      <th>Product 2</th>\n",
       "      <th>Product 3</th>\n",
       "    </tr>\n",
       "  </thead>\n",
       "  <tbody>\n",
       "    <tr>\n",
       "      <th>0</th>\n",
       "      <td>10</td>\n",
       "      <td>18</td>\n",
       "      <td>8</td>\n",
       "    </tr>\n",
       "    <tr>\n",
       "      <th>1</th>\n",
       "      <td>10</td>\n",
       "      <td>16</td>\n",
       "      <td>8</td>\n",
       "    </tr>\n",
       "    <tr>\n",
       "      <th>2</th>\n",
       "      <td>7</td>\n",
       "      <td>7</td>\n",
       "      <td>8</td>\n",
       "    </tr>\n",
       "    <tr>\n",
       "      <th>3</th>\n",
       "      <td>5</td>\n",
       "      <td>10</td>\n",
       "      <td>8</td>\n",
       "    </tr>\n",
       "    <tr>\n",
       "      <th>4</th>\n",
       "      <td>13</td>\n",
       "      <td>16</td>\n",
       "      <td>8</td>\n",
       "    </tr>\n",
       "    <tr>\n",
       "      <th>...</th>\n",
       "      <td>...</td>\n",
       "      <td>...</td>\n",
       "      <td>...</td>\n",
       "    </tr>\n",
       "    <tr>\n",
       "      <th>7131</th>\n",
       "      <td>6</td>\n",
       "      <td>6</td>\n",
       "      <td>8</td>\n",
       "    </tr>\n",
       "    <tr>\n",
       "      <th>7132</th>\n",
       "      <td>19</td>\n",
       "      <td>13</td>\n",
       "      <td>13</td>\n",
       "    </tr>\n",
       "    <tr>\n",
       "      <th>7133</th>\n",
       "      <td>3</td>\n",
       "      <td>4</td>\n",
       "      <td>8</td>\n",
       "    </tr>\n",
       "    <tr>\n",
       "      <th>7134</th>\n",
       "      <td>18</td>\n",
       "      <td>5</td>\n",
       "      <td>8</td>\n",
       "    </tr>\n",
       "    <tr>\n",
       "      <th>7135</th>\n",
       "      <td>10</td>\n",
       "      <td>16</td>\n",
       "      <td>8</td>\n",
       "    </tr>\n",
       "  </tbody>\n",
       "</table>\n",
       "<p>7136 rows × 3 columns</p>\n",
       "</div>"
      ],
      "text/plain": [
       "      Product 1  Product 2  Product 3\n",
       "0            10         18          8\n",
       "1            10         16          8\n",
       "2             7          7          8\n",
       "3             5         10          8\n",
       "4            13         16          8\n",
       "...         ...        ...        ...\n",
       "7131          6          6          8\n",
       "7132         19         13         13\n",
       "7133          3          4          8\n",
       "7134         18          5          8\n",
       "7135         10         16          8\n",
       "\n",
       "[7136 rows x 3 columns]"
      ]
     },
     "execution_count": 4,
     "metadata": {},
     "output_type": "execute_result"
    }
   ],
   "source": [
    "le= LabelEncoder()\n",
    "encoded_series = df.copy()\n",
    "le.fit(encoded_series.stack().unique())\n",
    "encoded_series['Product 1'] = le.transform(encoded_series['Product 1'])\n",
    "encoded_series['Product 2'] = le.transform(encoded_series['Product 2'])\n",
    "encoded_series['Product 3'] = le.transform(encoded_series['Product 3'])\n",
    "encoded_series"
   ]
  },
  {
   "cell_type": "code",
   "execution_count": 5,
   "id": "specific-nepal",
   "metadata": {},
   "outputs": [],
   "source": [
    "X = encoded_series.drop([\"Product 2\"], axis=1)\n",
    "y = encoded_series[\"Product 2\"]"
   ]
  },
  {
   "cell_type": "code",
   "execution_count": 6,
   "id": "little-executive",
   "metadata": {},
   "outputs": [
    {
     "name": "stdout",
     "output_type": "stream",
     "text": [
      "Train (4995, 2) (4995,)\n",
      "Test (2141, 2) (2141,)\n"
     ]
    }
   ],
   "source": [
    "X_train, X_test, y_train, y_test = model_selection.train_test_split(X, y, test_size=0.30, shuffle = True)\n",
    "print(\"Train\", X_train.shape, y_train.shape)\n",
    "print(\"Test\", X_test.shape, y_test.shape)"
   ]
  },
  {
   "cell_type": "code",
   "execution_count": 7,
   "id": "manual-camera",
   "metadata": {},
   "outputs": [
    {
     "data": {
      "text/html": [
       "<div>\n",
       "<style scoped>\n",
       "    .dataframe tbody tr th:only-of-type {\n",
       "        vertical-align: middle;\n",
       "    }\n",
       "\n",
       "    .dataframe tbody tr th {\n",
       "        vertical-align: top;\n",
       "    }\n",
       "\n",
       "    .dataframe thead th {\n",
       "        text-align: right;\n",
       "    }\n",
       "</style>\n",
       "<table border=\"1\" class=\"dataframe\">\n",
       "  <thead>\n",
       "    <tr style=\"text-align: right;\">\n",
       "      <th></th>\n",
       "      <th>Product 1</th>\n",
       "      <th>Product 3</th>\n",
       "    </tr>\n",
       "  </thead>\n",
       "  <tbody>\n",
       "    <tr>\n",
       "      <th>631</th>\n",
       "      <td>5</td>\n",
       "      <td>8</td>\n",
       "    </tr>\n",
       "    <tr>\n",
       "      <th>1518</th>\n",
       "      <td>5</td>\n",
       "      <td>8</td>\n",
       "    </tr>\n",
       "    <tr>\n",
       "      <th>6424</th>\n",
       "      <td>6</td>\n",
       "      <td>8</td>\n",
       "    </tr>\n",
       "    <tr>\n",
       "      <th>3795</th>\n",
       "      <td>19</td>\n",
       "      <td>8</td>\n",
       "    </tr>\n",
       "    <tr>\n",
       "      <th>4064</th>\n",
       "      <td>4</td>\n",
       "      <td>8</td>\n",
       "    </tr>\n",
       "    <tr>\n",
       "      <th>...</th>\n",
       "      <td>...</td>\n",
       "      <td>...</td>\n",
       "    </tr>\n",
       "    <tr>\n",
       "      <th>5239</th>\n",
       "      <td>6</td>\n",
       "      <td>8</td>\n",
       "    </tr>\n",
       "    <tr>\n",
       "      <th>188</th>\n",
       "      <td>10</td>\n",
       "      <td>8</td>\n",
       "    </tr>\n",
       "    <tr>\n",
       "      <th>4620</th>\n",
       "      <td>17</td>\n",
       "      <td>8</td>\n",
       "    </tr>\n",
       "    <tr>\n",
       "      <th>403</th>\n",
       "      <td>19</td>\n",
       "      <td>8</td>\n",
       "    </tr>\n",
       "    <tr>\n",
       "      <th>1098</th>\n",
       "      <td>10</td>\n",
       "      <td>8</td>\n",
       "    </tr>\n",
       "  </tbody>\n",
       "</table>\n",
       "<p>4995 rows × 2 columns</p>\n",
       "</div>"
      ],
      "text/plain": [
       "      Product 1  Product 3\n",
       "631           5          8\n",
       "1518          5          8\n",
       "6424          6          8\n",
       "3795         19          8\n",
       "4064          4          8\n",
       "...         ...        ...\n",
       "5239          6          8\n",
       "188          10          8\n",
       "4620         17          8\n",
       "403          19          8\n",
       "1098         10          8\n",
       "\n",
       "[4995 rows x 2 columns]"
      ]
     },
     "execution_count": 7,
     "metadata": {},
     "output_type": "execute_result"
    }
   ],
   "source": [
    "X_train"
   ]
  },
  {
   "cell_type": "code",
   "execution_count": 8,
   "id": "hungry-nowhere",
   "metadata": {},
   "outputs": [],
   "source": [
    "knn = KNeighborsClassifier(n_neighbors = 20)"
   ]
  },
  {
   "cell_type": "code",
   "execution_count": 9,
   "id": "skilled-night",
   "metadata": {},
   "outputs": [
    {
     "data": {
      "text/plain": [
       "KNeighborsClassifier(n_neighbors=20)"
      ]
     },
     "execution_count": 9,
     "metadata": {},
     "output_type": "execute_result"
    }
   ],
   "source": [
    "knn.fit(X_train, y_train)"
   ]
  },
  {
   "cell_type": "code",
   "execution_count": 10,
   "id": "postal-threat",
   "metadata": {},
   "outputs": [
    {
     "data": {
      "text/plain": [
       "0.3750583839327417"
      ]
     },
     "execution_count": 10,
     "metadata": {},
     "output_type": "execute_result"
    }
   ],
   "source": [
    "knn.score(X_test, y_test)"
   ]
  },
  {
   "cell_type": "code",
   "execution_count": 11,
   "id": "third-running",
   "metadata": {},
   "outputs": [
    {
     "data": {
      "text/plain": [
       "0.3841841841841842"
      ]
     },
     "execution_count": 11,
     "metadata": {},
     "output_type": "execute_result"
    }
   ],
   "source": [
    "knn.score(X_train, y_train)"
   ]
  },
  {
   "cell_type": "code",
   "execution_count": 12,
   "id": "local-weight",
   "metadata": {},
   "outputs": [
    {
     "data": {
      "text/plain": [
       "(1, 2)"
      ]
     },
     "execution_count": 12,
     "metadata": {},
     "output_type": "execute_result"
    }
   ],
   "source": [
    "Beispiel = np.array([[16, 12]])\n",
    "Beispiel.shape"
   ]
  },
  {
   "cell_type": "code",
   "execution_count": 38,
   "id": "infinite-floor",
   "metadata": {},
   "outputs": [
    {
     "name": "stdout",
     "output_type": "stream",
     "text": [
      "Vielleicht möchten Sie ['USB-C Charging Cable'] kaufen.\n"
     ]
    }
   ],
   "source": [
    "Google_Phone = 10\n",
    "Empty = 8\n",
    "\n",
    "Beispiel = np.array([[Google_Phone, Empty]])\n",
    "Prognose = knn.predict(Beispiel)\n",
    "print(f\"Vielleicht möchten Sie {le.inverse_transform(Prognose)} kaufen.\")"
   ]
  },
  {
   "cell_type": "code",
   "execution_count": 39,
   "id": "cleared-whole",
   "metadata": {},
   "outputs": [
    {
     "name": "stdout",
     "output_type": "stream",
     "text": [
      "Vielleicht möchten Sie ['Lightning Charging Cable'] kaufen.\n"
     ]
    }
   ],
   "source": [
    "iPhone = 19\n",
    "Empty = 8\n",
    "\n",
    "Beispiel = np.array([[iPhone, Empty]])\n",
    "Prognose = knn.predict(Beispiel)\n",
    "print(f\"Vielleicht möchten Sie {le.inverse_transform(Prognose)} kaufen.\")"
   ]
  },
  {
   "cell_type": "code",
   "execution_count": null,
   "id": "restricted-moldova",
   "metadata": {},
   "outputs": [],
   "source": []
  }
 ],
 "metadata": {
  "kernelspec": {
   "display_name": "Python 3",
   "language": "python",
   "name": "python3"
  },
  "language_info": {
   "codemirror_mode": {
    "name": "ipython",
    "version": 3
   },
   "file_extension": ".py",
   "mimetype": "text/x-python",
   "name": "python",
   "nbconvert_exporter": "python",
   "pygments_lexer": "ipython3",
   "version": "3.7.5"
  }
 },
 "nbformat": 4,
 "nbformat_minor": 5
}
